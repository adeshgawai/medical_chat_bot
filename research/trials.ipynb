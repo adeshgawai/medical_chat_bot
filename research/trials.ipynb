{
 "cells": [
  {
   "cell_type": "code",
   "execution_count": 1,
   "id": "00017800",
   "metadata": {},
   "outputs": [
    {
     "name": "stdout",
     "output_type": "stream",
     "text": [
      "ok\n"
     ]
    }
   ],
   "source": [
    "print('ok')"
   ]
  },
  {
   "cell_type": "code",
   "execution_count": 2,
   "id": "3dddcb70",
   "metadata": {},
   "outputs": [
    {
     "data": {
      "text/plain": [
       "'e:\\\\NLP_learning\\\\Projects\\\\medical_chat_bot\\\\medical_chat_bot\\\\research'"
      ]
     },
     "execution_count": 2,
     "metadata": {},
     "output_type": "execute_result"
    }
   ],
   "source": [
    "%pwd"
   ]
  },
  {
   "cell_type": "markdown",
   "id": "2be0c9a5",
   "metadata": {},
   "source": [
    "### we can change the direcotry with the help of this"
   ]
  },
  {
   "cell_type": "code",
   "execution_count": 1,
   "id": "eecef1c0",
   "metadata": {},
   "outputs": [],
   "source": [
    "import os\n",
    "os.chdir('../')"
   ]
  },
  {
   "cell_type": "code",
   "execution_count": 2,
   "id": "55f7861e",
   "metadata": {},
   "outputs": [
    {
     "data": {
      "text/plain": [
       "'e:\\\\NLP_learning\\\\Projects\\\\medical_chat_bot\\\\medical_chat_bot'"
      ]
     },
     "execution_count": 2,
     "metadata": {},
     "output_type": "execute_result"
    }
   ],
   "source": [
    "%pwd"
   ]
  },
  {
   "cell_type": "code",
   "execution_count": 20,
   "id": "83fb7530",
   "metadata": {},
   "outputs": [],
   "source": [
    "from langchain.document_loaders import PyPDFLoader, DirectoryLoader\n",
    "from langchain.text_splitter import RecursiveCharacterTextSplitter\n",
    "from langchain_community.vectorstores import FAISS\n",
    "from langchain_core.prompts import PromptTemplate"
   ]
  },
  {
   "cell_type": "code",
   "execution_count": 2,
   "id": "b20e3e86",
   "metadata": {},
   "outputs": [],
   "source": [
    "def load_pdf_file(data):\n",
    "    loader = DirectoryLoader(\n",
    "        data,\n",
    "        glob='*.pdf',\n",
    "        loader_cls=PyPDFLoader\n",
    "    )\n",
    "    documents = loader.load()\n",
    "    return documents"
   ]
  },
  {
   "cell_type": "code",
   "execution_count": 5,
   "id": "c2f38f71",
   "metadata": {},
   "outputs": [],
   "source": [
    "extracted_docs = load_pdf_file(data='data/')"
   ]
  },
  {
   "cell_type": "code",
   "execution_count": 8,
   "id": "15c87fc8",
   "metadata": {},
   "outputs": [],
   "source": [
    "# extracted_docs"
   ]
  },
  {
   "cell_type": "code",
   "execution_count": 6,
   "id": "36265c07",
   "metadata": {},
   "outputs": [],
   "source": [
    "def text_spltter(extracted_docs):\n",
    "    text_split = RecursiveCharacterTextSplitter(\n",
    "        chunk_size=1000,\n",
    "        chunk_overlap=200\n",
    "    )\n",
    "    text_chunks = text_split.split_documents(extracted_docs)\n",
    "    return text_chunks\n",
    "    "
   ]
  },
  {
   "cell_type": "code",
   "execution_count": 7,
   "id": "4180c3e1",
   "metadata": {},
   "outputs": [],
   "source": [
    "text_chunks = text_spltter(extracted_docs)\n"
   ]
  },
  {
   "cell_type": "code",
   "execution_count": 8,
   "id": "a11ba175",
   "metadata": {},
   "outputs": [],
   "source": [
    "from langchain.embeddings import HuggingFaceEmbeddings"
   ]
  },
  {
   "cell_type": "code",
   "execution_count": 9,
   "id": "4879479e",
   "metadata": {},
   "outputs": [],
   "source": [
    "def embedding_creation():\n",
    "    embeddings = HuggingFaceEmbeddings(\n",
    "        model_name=\"sentence-transformers/all-MiniLM-L6-v2\"\n",
    "    )\n",
    "    return embeddings"
   ]
  },
  {
   "cell_type": "code",
   "execution_count": 10,
   "id": "4ed68997",
   "metadata": {},
   "outputs": [
    {
     "name": "stderr",
     "output_type": "stream",
     "text": [
      "C:\\Users\\ADESH\\AppData\\Local\\Temp\\ipykernel_17468\\1981112128.py:2: LangChainDeprecationWarning: The class `HuggingFaceEmbeddings` was deprecated in LangChain 0.2.2 and will be removed in 1.0. An updated version of the class exists in the :class:`~langchain-huggingface package and should be used instead. To use it run `pip install -U :class:`~langchain-huggingface` and import as `from :class:`~langchain_huggingface import HuggingFaceEmbeddings``.\n",
      "  embeddings = HuggingFaceEmbeddings(\n",
      "c:\\Users\\ADESH\\anaconda3\\envs\\medibot\\lib\\site-packages\\tqdm\\auto.py:21: TqdmWarning: IProgress not found. Please update jupyter and ipywidgets. See https://ipywidgets.readthedocs.io/en/stable/user_install.html\n",
      "  from .autonotebook import tqdm as notebook_tqdm\n"
     ]
    }
   ],
   "source": [
    "embeddings = embedding_creation()"
   ]
  },
  {
   "cell_type": "code",
   "execution_count": 11,
   "id": "2c8ddd98",
   "metadata": {},
   "outputs": [
    {
     "name": "stderr",
     "output_type": "stream",
     "text": [
      "c:\\Users\\ADESH\\anaconda3\\envs\\medibot\\lib\\site-packages\\torch\\nn\\modules\\module.py:1762: FutureWarning: `encoder_attention_mask` is deprecated and will be removed in version 4.55.0 for `BertSdpaSelfAttention.forward`.\n",
      "  return forward_call(*args, **kwargs)\n"
     ]
    }
   ],
   "source": [
    "t = embeddings.embed_query('hello world')"
   ]
  },
  {
   "cell_type": "markdown",
   "id": "a1c44e90",
   "metadata": {},
   "source": [
    "## Creating the vector database"
   ]
  },
  {
   "cell_type": "code",
   "execution_count": 14,
   "id": "36bcb134",
   "metadata": {},
   "outputs": [
    {
     "name": "stdout",
     "output_type": "stream",
     "text": [
      "Collecting faiss-cpu\n",
      "  Downloading faiss_cpu-1.11.0.post1-cp310-cp310-win_amd64.whl.metadata (5.1 kB)\n",
      "Requirement already satisfied: numpy<3.0,>=1.25.0 in c:\\users\\adesh\\anaconda3\\envs\\medibot\\lib\\site-packages (from faiss-cpu) (2.2.6)\n",
      "Requirement already satisfied: packaging in c:\\users\\adesh\\anaconda3\\envs\\medibot\\lib\\site-packages (from faiss-cpu) (25.0)\n",
      "Downloading faiss_cpu-1.11.0.post1-cp310-cp310-win_amd64.whl (14.9 MB)\n",
      "   ---------------------------------------- 0.0/14.9 MB ? eta -:--:--\n",
      "   ---------------------------------------- 0.0/14.9 MB ? eta -:--:--\n",
      "   ---------------------------------------- 0.0/14.9 MB ? eta -:--:--\n",
      "    --------------------------------------- 0.3/14.9 MB ? eta -:--:--\n",
      "   - -------------------------------------- 0.5/14.9 MB 762.0 kB/s eta 0:00:19\n",
      "   - -------------------------------------- 0.5/14.9 MB 762.0 kB/s eta 0:00:19\n",
      "   -- ------------------------------------- 0.8/14.9 MB 729.2 kB/s eta 0:00:20\n",
      "   -- ------------------------------------- 0.8/14.9 MB 729.2 kB/s eta 0:00:20\n",
      "   -- ------------------------------------- 1.0/14.9 MB 718.9 kB/s eta 0:00:20\n",
      "   --- ------------------------------------ 1.3/14.9 MB 737.4 kB/s eta 0:00:19\n",
      "   ---- ----------------------------------- 1.6/14.9 MB 838.6 kB/s eta 0:00:16\n",
      "   ---- ----------------------------------- 1.8/14.9 MB 898.8 kB/s eta 0:00:15\n",
      "   ----- ---------------------------------- 2.1/14.9 MB 910.2 kB/s eta 0:00:15\n",
      "   ------ --------------------------------- 2.4/14.9 MB 965.5 kB/s eta 0:00:13\n",
      "   ------- -------------------------------- 2.9/14.9 MB 1.1 MB/s eta 0:00:11\n",
      "   --------- ------------------------------ 3.4/14.9 MB 1.2 MB/s eta 0:00:10\n",
      "   --------- ------------------------------ 3.7/14.9 MB 1.2 MB/s eta 0:00:10\n",
      "   ----------- ---------------------------- 4.2/14.9 MB 1.3 MB/s eta 0:00:09\n",
      "   ----------- ---------------------------- 4.5/14.9 MB 1.3 MB/s eta 0:00:09\n",
      "   ------------- -------------------------- 5.0/14.9 MB 1.4 MB/s eta 0:00:08\n",
      "   -------------- ------------------------- 5.2/14.9 MB 1.4 MB/s eta 0:00:07\n",
      "   -------------- ------------------------- 5.5/14.9 MB 1.4 MB/s eta 0:00:07\n",
      "   -------------- ------------------------- 5.5/14.9 MB 1.4 MB/s eta 0:00:07\n",
      "   -------------- ------------------------- 5.5/14.9 MB 1.4 MB/s eta 0:00:07\n",
      "   --------------- ------------------------ 5.8/14.9 MB 1.2 MB/s eta 0:00:08\n",
      "   ---------------- ----------------------- 6.3/14.9 MB 1.3 MB/s eta 0:00:07\n",
      "   ---------------- ----------------------- 6.3/14.9 MB 1.3 MB/s eta 0:00:07\n",
      "   ----------------- ---------------------- 6.6/14.9 MB 1.3 MB/s eta 0:00:07\n",
      "   ------------------- -------------------- 7.1/14.9 MB 1.3 MB/s eta 0:00:07\n",
      "   -------------------- ------------------- 7.6/14.9 MB 1.3 MB/s eta 0:00:06\n",
      "   -------------------- ------------------- 7.6/14.9 MB 1.3 MB/s eta 0:00:06\n",
      "   --------------------- ------------------ 7.9/14.9 MB 1.3 MB/s eta 0:00:06\n",
      "   --------------------- ------------------ 8.1/14.9 MB 1.3 MB/s eta 0:00:06\n",
      "   ----------------------- ---------------- 8.7/14.9 MB 1.3 MB/s eta 0:00:05\n",
      "   ----------------------- ---------------- 8.9/14.9 MB 1.3 MB/s eta 0:00:05\n",
      "   ------------------------ --------------- 9.2/14.9 MB 1.3 MB/s eta 0:00:05\n",
      "   -------------------------- ------------- 9.7/14.9 MB 1.3 MB/s eta 0:00:04\n",
      "   -------------------------- ------------- 10.0/14.9 MB 1.4 MB/s eta 0:00:04\n",
      "   ---------------------------- ----------- 10.5/14.9 MB 1.4 MB/s eta 0:00:04\n",
      "   ---------------------------- ----------- 10.5/14.9 MB 1.4 MB/s eta 0:00:04\n",
      "   ---------------------------- ----------- 10.7/14.9 MB 1.3 MB/s eta 0:00:04\n",
      "   ---------------------------- ----------- 10.7/14.9 MB 1.3 MB/s eta 0:00:04\n",
      "   ---------------------------- ----------- 10.7/14.9 MB 1.3 MB/s eta 0:00:04\n",
      "   ---------------------------- ----------- 10.7/14.9 MB 1.3 MB/s eta 0:00:04\n",
      "   ----------------------------- ---------- 11.0/14.9 MB 1.3 MB/s eta 0:00:04\n",
      "   ------------------------------- -------- 11.5/14.9 MB 1.3 MB/s eta 0:00:03\n",
      "   ------------------------------- -------- 11.8/14.9 MB 1.3 MB/s eta 0:00:03\n",
      "   --------------------------------- ------ 12.3/14.9 MB 1.3 MB/s eta 0:00:02\n",
      "   --------------------------------- ------ 12.3/14.9 MB 1.3 MB/s eta 0:00:02\n",
      "   --------------------------------- ------ 12.6/14.9 MB 1.3 MB/s eta 0:00:02\n",
      "   ---------------------------------- ----- 12.8/14.9 MB 1.3 MB/s eta 0:00:02\n",
      "   ----------------------------------- ---- 13.1/14.9 MB 1.3 MB/s eta 0:00:02\n",
      "   ------------------------------------ --- 13.6/14.9 MB 1.3 MB/s eta 0:00:01\n",
      "   -------------------------------------- - 14.4/14.9 MB 1.3 MB/s eta 0:00:01\n",
      "   ---------------------------------------  14.7/14.9 MB 1.4 MB/s eta 0:00:01\n",
      "   ---------------------------------------- 14.9/14.9 MB 1.4 MB/s eta 0:00:00\n",
      "Installing collected packages: faiss-cpu\n",
      "Successfully installed faiss-cpu-1.11.0.post1\n",
      "Note: you may need to restart the kernel to use updated packages.\n"
     ]
    }
   ],
   "source": [
    "pip install faiss-cpu"
   ]
  },
  {
   "cell_type": "code",
   "execution_count": 15,
   "id": "7831c7d8",
   "metadata": {},
   "outputs": [
    {
     "name": "stderr",
     "output_type": "stream",
     "text": [
      "c:\\Users\\ADESH\\anaconda3\\envs\\medibot\\lib\\site-packages\\torch\\nn\\modules\\module.py:1762: FutureWarning: `encoder_attention_mask` is deprecated and will be removed in version 4.55.0 for `BertSdpaSelfAttention.forward`.\n",
      "  return forward_call(*args, **kwargs)\n"
     ]
    }
   ],
   "source": [
    "vector_store = FAISS.from_documents(text_chunks, embeddings)"
   ]
  },
  {
   "cell_type": "markdown",
   "id": "577e6346",
   "metadata": {},
   "source": [
    "### Retriever"
   ]
  },
  {
   "cell_type": "code",
   "execution_count": 16,
   "id": "ba1434da",
   "metadata": {},
   "outputs": [],
   "source": [
    "retriver = vector_store.as_retriever(search_kwargs={'k': 4})"
   ]
  },
  {
   "cell_type": "code",
   "execution_count": 18,
   "id": "911bcd45",
   "metadata": {},
   "outputs": [
    {
     "name": "stderr",
     "output_type": "stream",
     "text": [
      "c:\\Users\\ADESH\\anaconda3\\envs\\medibot\\lib\\site-packages\\torch\\nn\\modules\\module.py:1762: FutureWarning: `encoder_attention_mask` is deprecated and will be removed in version 4.55.0 for `BertSdpaSelfAttention.forward`.\n",
      "  return forward_call(*args, **kwargs)\n"
     ]
    },
    {
     "data": {
      "text/plain": [
       "[Document(id='9f1cd1a8-de57-4d79-99b9-b4af63faa03d', metadata={'producer': 'iLovePDF', 'creator': 'PyPDF', 'creationdate': '', 'moddate': '2025-08-01T10:48:16+00:00', 'source': 'data\\\\The_Merck_Manual_of_Diagnosis_and_Therapy_2011_-_19th_Edn.......-53-874.pdf', 'total_pages': 822, 'page': 602, 'page_label': '603'}, page_content='Family history should note any family history of migraine headaches.\\nPhysical examination:\\n Vital signs, including temperature, are measured.\\nIf the diagnosis of a transient ischemic attack is under consideration, a complete neurologic examination\\nis done. The facial skin is inspected for vesicles or ulcers in the V\\n1\\n distribution (ophthalmic division of the\\ntrigeminal nerve), and the temples are palpated for pulses, tenderness, or nodularity over the course of\\nThe Merck Manual of Diagnosis & Therapy, 19th Edition Chapter 60. Approach to the Ophthalmologic Patient\\n645'),\n",
       " Document(id='265c8ed1-2332-440e-99ec-a43b14c29c8f', metadata={'producer': 'iLovePDF', 'creator': 'PyPDF', 'creationdate': '', 'moddate': '2025-08-01T10:48:16+00:00', 'source': 'data\\\\The_Merck_Manual_of_Diagnosis_and_Therapy_2011_-_19th_Edn.......-53-874.pdf', 'total_pages': 822, 'page': 602, 'page_label': '603'}, page_content=\"[\\nTable 60-2.\\n Some Disorders that Cause Acute Vision Loss]\\nand jagged or mosaic patterns (scintillating scotomata). The patient should be asked about eye pain and\\nwhether it is constant or occurs only with eye movement.\\nReview of systems\\n should seek extraocular symptoms of possible causes, including jaw or tongue\\nclaudication, temporal headache, proximal muscle pain, and stiffness (giant cell arteritis); and headaches\\n(ocular migraine).\\nPast medical history\\n should seek known risk factors for eye disorders (eg, contact lens use, severe\\nmyopia, recent eye surgery or injury), risk factors for vascular disease (eg, diabetes, hypertension), and\\nhematologic disorders (eg, sickle cell anemia or disorders such as Waldenstrom's macroglobulinemia or\\nmultiple myeloma that could cause a hyperviscosity syndrome).\\nFamily history should note any family history of migraine headaches.\\nPhysical examination:\\n Vital signs, including temperature, are measured.\"),\n",
       " Document(id='da4bacd8-d9e0-4cfd-9551-8496f1d7e8cd', metadata={'producer': 'iLovePDF', 'creator': 'PyPDF', 'creationdate': '', 'moddate': '2025-08-01T10:48:16+00:00', 'source': 'data\\\\The_Merck_Manual_of_Diagnosis_and_Therapy_2011_-_19th_Edn.......-53-874.pdf', 'total_pages': 822, 'page': 357, 'page_label': '358'}, page_content='Symptoms and Signs\\nSymptoms may begin gradually over several weeks or abruptly.\\nPatients may present with systemic symptoms such as fever (usually low-grade), fatigue, malaise,\\nunexplained weight loss, and sweats. Some patients are initially diagnosed as having FUO. Eventually,\\nmost patients develop symptoms related to the affected arteries.\\nSevere, sometimes throbbing headache (temporal, occipital, frontal, or diffuse) is the most common\\nsymptom. It may be accompanied by scalp pain elicited by touching the scalp or combing the hair.\\nVisual disturbances include diplopia, scotomas, ptosis, blurred vision, and loss of vision (which is an\\nominous sign). Brief periods of partial or complete vision loss (amaurosis fugax) in one eye may be\\nrapidly followed by permanent irreversible loss of vision. If untreated, the other eye may also be affected.\\nHowever, complete bilateral blindness is uncommon. Vision loss is caused by arteritis of branches of the'),\n",
       " Document(id='e777366e-aae8-4969-9092-d2788360dac1', metadata={'producer': 'iLovePDF', 'creator': 'PyPDF', 'creationdate': '', 'moddate': '2025-08-01T10:48:16+00:00', 'source': 'data\\\\The_Merck_Manual_of_Diagnosis_and_Therapy_2011_-_19th_Edn.......-53-874.pdf', 'total_pages': 822, 'page': 590, 'page_label': '591'}, page_content=\"• Cranial nerve abnormalities\\nInterpretation of findings:\\n Red flag finding of headache suggests sinusitis, particularly if multiple upper\\nmolar and premolar (back) teeth are painful. However, presence of vision symptoms or abnormalities of\\nthe pupils or of ocular motility suggests cavernous sinus thrombosis.\\nFever is unusual with routine dental infection unless there is significant local extension. Bilateral\\ntenderness of the floor of the mouth suggests Ludwig's angina.\\n[\\nTable 58-2.\\n Characteristics of Pain in Toothache]\\nDifficulty opening the mouth (trismus) can occur with any lower molar infection but is common only with\\npericoronitis.\\nIsolated dental condition:\\n Patients without red flag findings or facial swelling likely have an isolated\\ndental condition, which, although uncomfortable, is not serious. Clinical findings, particularly the nature of\\nthe pain, help suggest a cause (see \\nTables 58-1\\n and \\n58-2\\n). Because of its innervation, the pulp can\")]"
      ]
     },
     "execution_count": 18,
     "metadata": {},
     "output_type": "execute_result"
    }
   ],
   "source": [
    "retriver.invoke('symptoms of headache')"
   ]
  },
  {
   "cell_type": "markdown",
   "id": "bf3401ef",
   "metadata": {},
   "source": [
    "### Augmentation"
   ]
  },
  {
   "cell_type": "code",
   "execution_count": 21,
   "id": "bc826ac4",
   "metadata": {},
   "outputs": [],
   "source": [
    "prompt = PromptTemplate(\n",
    "    template=\"\"\"\n",
    "    You are a helpful assistant.\n",
    "    Answer ONLY from the provided transcript context.\n",
    "    If the context is insufficient, just say you don't know.\n",
    "\n",
    "      {context}\n",
    "      Question: {question}\n",
    "    \"\"\",\n",
    "    input_variables=['context','question']\n",
    ")"
   ]
  },
  {
   "cell_type": "code",
   "execution_count": 33,
   "id": "b6e3b786",
   "metadata": {},
   "outputs": [
    {
     "name": "stderr",
     "output_type": "stream",
     "text": [
      "c:\\Users\\ADESH\\anaconda3\\envs\\medibot\\lib\\site-packages\\torch\\nn\\modules\\module.py:1762: FutureWarning: `encoder_attention_mask` is deprecated and will be removed in version 4.55.0 for `BertSdpaSelfAttention.forward`.\n",
      "  return forward_call(*args, **kwargs)\n"
     ]
    }
   ],
   "source": [
    "question = 'what are the treatments on Hiccups?'\n",
    "retrived_docs = retriver.invoke(question)"
   ]
  },
  {
   "cell_type": "code",
   "execution_count": 34,
   "id": "7957c0d2",
   "metadata": {},
   "outputs": [
    {
     "data": {
      "text/plain": [
       "'PaCO\\n2\\n can be increased and diaphragmatic activity can be inhibited by a series of deep breath-holds or\\nby breathing deeply in to and out of a paper bag. (CAUTION: \\nPlastic bags can cling to the nostrils and\\nshould not be used\\n.) Vagal stimulation by pharyngeal irritation (eg, swallowing dry bread, granulated\\nsugar, or crushed ice; applying traction on the tongue; stimulating gagging) may work. Numerous other\\nfolk remedies exist.\\nPersistent hiccups are often recalcitrant to treatment. Many drugs have been used in anecdotal series.\\nBaclofen, a \\nγ\\n-aminobutyric acid agonist (5 mg po q 6 h increasing to 20 mg/dose), may be effective. Other\\ndrugs include chlorpromazine 10 to 50 mg po tid as needed, metoclopramide 10 mg po bid to qid, and\\nvarious anticonvulsants (eg, gabapentin). Additionally, an empiric trial of proton pump inhibitors may be\\ngiven. For severe symptoms, chlorpromazine 25 to 50 mg IM or IV can be given. In intractable cases, the\\n\\nTable 7-4\\n) are both numerous and rarely a\\ncause of hiccups.\\nTesting:\\n No specific evaluation is required for acute hiccups if routine history and physical examination\\nare unremarkable; abnormalities are pursued with appropriate testing.\\nPatients with hiccups of longer duration and no obvious cause should have testing, probably including\\nserum electrolytes, BUN and creatinine, chest x-ray, and ECG. Upper GI endoscopy and perhaps\\nesophageal pH monitoring should be considered. If these are unremarkable, brain MRI and chest CT may\\nbe done.\\n[\\nTable 7-4.\\n Some Causes of Intractable Hiccups]\\nTreatment\\nIdentified problems are treated (eg, proton pump inhibitors for gastroesophageal reflux disease, dilation\\nfor esophageal stricture).\\nFor symptom relief, many simple measures can be tried, although none are more than slightly effective:\\nPaCO\\n2\\n can be increased and diaphragmatic activity can be inhibited by a series of deep breath-holds or\\n\\nCause is generally unknown, but transient hiccups are often caused by the following:\\n• Gastric distention\\n• Alcohol consumption\\n• Swallowing hot or irritating substances\\nPersistent and intractable hiccups have myriad causes (see\\nTable 7-4\\n).\\nEvaluation\\nHistory: History of present illness\\n should note duration of hiccups, remedies tried, and relationship of\\nThe Merck Manual of Diagnosis & Therapy, 19th Edition Chapter 7. Approach to the Patient With Upper GI Complaints\\n125\\n\\nantidepressants) may be helpful.\\nKey Points\\n• Coronary ischemia is possible in a patient with acute \"gas.\"\\n• Endoscopy is indicated for those > 45 or with red flag findings.\\n• Empiric treatment with an acid blocker is reasonable for those < 45 without red flag findings. Those who\\ndo not respond in 2 to 4 wk require further evaluation.\\nHiccups\\nHiccups (hiccough, singultus) are repeated involuntary spasms of the diaphragm \\nfollowed by sudden\\nclosure of the glottis, which checks the inflow of air and causes the characteristic sound. Transient\\nepisodes are very common. Persistent (> 2 days) and intractable (> 1 mo) hiccups are uncommon but\\nquite distressing.\\nEtiology\\nHiccups follow irritation of afferent or efferent diaphragmatic nerves or of medullary centers that control\\nthe respiratory muscles, particularly the diaphragm. Hiccups are more common among men.\\nCause is generally unknown, but transient hiccups are often caused by the following:\\n• Gastric distention\\n• Alcohol consumption'"
      ]
     },
     "execution_count": 34,
     "metadata": {},
     "output_type": "execute_result"
    }
   ],
   "source": [
    "context = \"\\n\\n\".join(doc.page_content for doc in retrived_docs)\n",
    "context"
   ]
  },
  {
   "cell_type": "code",
   "execution_count": 35,
   "id": "fa021560",
   "metadata": {},
   "outputs": [],
   "source": [
    "final_propmt = prompt.invoke({'context':context, 'question':question})"
   ]
  },
  {
   "cell_type": "markdown",
   "id": "fa1741da",
   "metadata": {},
   "source": [
    "### Generation"
   ]
  },
  {
   "cell_type": "code",
   "execution_count": 36,
   "id": "9fe7ee26",
   "metadata": {},
   "outputs": [
    {
     "name": "stdout",
     "output_type": "stream",
     "text": [
      "content=\"Treatment for persistent and intractable hiccups includes identifying any underlying problems, which may require specific treatment. If no cause is found or if symptoms persist despite this approach, various simple measures can be tried: increasing PaCO2 by holding one's breath deeply in a paper bag (not using plastic bags), and trying to increase diaphragmatic activity through deep breath-holds are mentioned as methods for relief. Additionally, drugs such as Baclofen, chlorpromazine, metoclopramide, various anticonvulsants like gabapentin, proton pump inhibitors may be used empirically based on the patient's history and response to previous treatments. In severe cases or when hiccups are intractable after 1 month of symptoms without an identifiable cause, chlorpromazine can also be administered intramuscularly (IM) or intravenously (IV).\" additional_kwargs={} response_metadata={'model': 'phi3:mini', 'created_at': '2025-08-03T11:58:50.718927Z', 'message': {'role': 'assistant', 'content': ''}, 'done_reason': 'stop', 'done': True, 'total_duration': 28882073300, 'load_duration': 9395000, 'prompt_eval_count': 1088, 'prompt_eval_duration': 8869318600, 'eval_count': 205, 'eval_duration': 20002837900} id='run--52a15273-0483-4d87-8095-cc7b4f6f3ec9-0'\n"
     ]
    }
   ],
   "source": [
    "from langchain_community.chat_models import ChatOllama\n",
    "\n",
    "# This line uses your free, local Phi-3 model via Ollama\n",
    "llm = ChatOllama(model=\"phi3:mini\", temperature=0.2)\n",
    "\n",
    "# The rest of your code works exactly the same!\n",
    "response = llm.invoke(final_propmt)\n",
    "print(response)"
   ]
  },
  {
   "cell_type": "code",
   "execution_count": null,
   "id": "c729ea5e",
   "metadata": {},
   "outputs": [],
   "source": []
  }
 ],
 "metadata": {
  "kernelspec": {
   "display_name": "medibot",
   "language": "python",
   "name": "python3"
  },
  "language_info": {
   "codemirror_mode": {
    "name": "ipython",
    "version": 3
   },
   "file_extension": ".py",
   "mimetype": "text/x-python",
   "name": "python",
   "nbconvert_exporter": "python",
   "pygments_lexer": "ipython3",
   "version": "3.10.18"
  }
 },
 "nbformat": 4,
 "nbformat_minor": 5
}
